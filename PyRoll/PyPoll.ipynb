{
 "cells": [
  {
   "cell_type": "code",
   "execution_count": 42,
   "metadata": {},
   "outputs": [],
   "source": [
    "import os\n",
    "import csv"
   ]
  },
  {
   "cell_type": "code",
   "execution_count": 43,
   "metadata": {},
   "outputs": [],
   "source": [
    "# path for file\n",
    "csvpath = os.path.join(\"election_data.csv\")"
   ]
  },
  {
   "cell_type": "code",
   "execution_count": 44,
   "metadata": {},
   "outputs": [],
   "source": [
    "# Set Variables\n",
    "voter = []\n",
    "county = []\n",
    "candidates = []\n",
    "candidate_counts = []\n",
    "votes = 0"
   ]
  },
  {
   "cell_type": "code",
   "execution_count": 45,
   "metadata": {},
   "outputs": [],
   "source": [
    "#Open file\n",
    "with open(csvpath, newline=\"\") as csvfile:\n",
    "    csvreader = csv.reader(csvfile, delimiter=\",\")\n",
    "\n",
    "# Read the header row first (skip this step if there is now header)\n",
    "    row = next(csvreader,None)\n",
    "\n",
    "# Read each row of data after the header\n",
    "    for row in csvreader:\n",
    "\n",
    "        votes = votes + 1\n",
    "\n",
    "        candidate = row[2]\n",
    "\n",
    "        #Add up votes\n",
    "        if candidate in candidates:\n",
    "            candidate_index = candidates.index(candidate)\n",
    "            candidate_counts[candidate_index] = candidate_counts[candidate_index] + 1\n",
    "        #Create candidate list\n",
    "        else:\n",
    "            candidates.append(candidate)\n",
    "            candidate_counts.append(1)"
   ]
  },
  {
   "cell_type": "code",
   "execution_count": 55,
   "metadata": {},
   "outputs": [],
   "source": [
    "#Count total votes\n",
    "total_votes = len(voter)\n",
    "percentages = []\n",
    "total_votes = candidate_counts[0]\n",
    "total_index = 0"
   ]
  },
  {
   "cell_type": "code",
   "execution_count": 57,
   "metadata": {},
   "outputs": [],
   "source": [
    "#Find candidate percentages and winner\n",
    "for count in range(len(candidates)):\n",
    "    vote_percentage = candidate_counts[count]/votes*100\n",
    "    percentages.append(vote_percentage)\n",
    "    if candidate_counts[count] > total_votes:\n",
    "        total_votes = candidate_counts[count]\n",
    "        total_index = count\n",
    "winner = candidates[total_index]"
   ]
  },
  {
   "cell_type": "code",
   "execution_count": 65,
   "metadata": {},
   "outputs": [
    {
     "name": "stdout",
     "output_type": "stream",
     "text": [
      "Election Results\n",
      "-------------------------------------------------------\n",
      "Total Votes: 2218231\n",
      "-------------------------------------------------------\n",
      "Khan: 63.000% (2218231)\n",
      "Correy: 20.000% (704200)\n",
      "Li: 14.000% (492940)\n",
      "O'Tooley: 3.000% (105630)\n",
      "-------------------------------------------------------\n",
      "Winner: Khan\n",
      "\n"
     ]
    }
   ],
   "source": [
    "#Print to terminal\n",
    "print(f\"Election Results\")\n",
    "print(\"-------------------------------------------------------\")\n",
    "print(f\"Total Votes: {total_votes}\")\n",
    "print(\"-------------------------------------------------------\")\n",
    "for count in range(len(candidates)):\n",
    "    print(f\"{candidates[count]}: {percentages[count]:.3f}% ({candidate_counts[count]})\")\n",
    "print(\"-------------------------------------------------------\")\n",
    "print(f\"Winner: {winner}\")\n",
    "print(\"\")"
   ]
  },
  {
   "cell_type": "code",
   "execution_count": 66,
   "metadata": {},
   "outputs": [],
   "source": [
    "#Write to file\n",
    "with open('PyPoll.txt', 'w') as text:\n",
    "    text.write(f\"Election Results\")\n",
    "    text.write(\"-------------------------------------------------------\")\n",
    "    text.write(f\"Total Votes: {total_votes}\")\n",
    "    text.write(\"-------------------------------------------------------\")\n",
    "    for count in range(len(candidates)):\n",
    "        text.write(f\"{candidates[count]}: {percentages[count]:.3f}% ({candidate_counts[count]})\")\n",
    "    text.write(\"-------------------------------------------------------\")\n",
    "    text.write(f\"Winner: {winner}\")\n",
    "    text.write(\"\")"
   ]
  },
  {
   "cell_type": "code",
   "execution_count": null,
   "metadata": {},
   "outputs": [],
   "source": []
  }
 ],
 "metadata": {
  "kernelspec": {
   "display_name": "Python 3",
   "language": "python",
   "name": "python3"
  },
  "language_info": {
   "codemirror_mode": {
    "name": "ipython",
    "version": 3
   },
   "file_extension": ".py",
   "mimetype": "text/x-python",
   "name": "python",
   "nbconvert_exporter": "python",
   "pygments_lexer": "ipython3",
   "version": "3.7.4"
  }
 },
 "nbformat": 4,
 "nbformat_minor": 4
}
