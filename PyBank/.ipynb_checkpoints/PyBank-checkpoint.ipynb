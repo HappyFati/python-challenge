{
 "cells": [
  {
   "cell_type": "code",
   "execution_count": 95,
   "metadata": {},
   "outputs": [],
   "source": [
    "import os\n",
    "import csv"
   ]
  },
  {
   "cell_type": "code",
   "execution_count": 96,
   "metadata": {},
   "outputs": [],
   "source": [
    "# path for file\n",
    "csvpath = os.path.join(\"budget_data.csv\")"
   ]
  },
  {
   "cell_type": "code",
   "execution_count": 97,
   "metadata": {},
   "outputs": [
    {
     "name": "stdout",
     "output_type": "stream",
     "text": [
      "CSV Header: ['Date', 'Profit/Losses']\n",
      "Month: Jan-2010\tP&L: 867884\n",
      "Month: Feb-2010\tP&L: 984655\n",
      "Month: Mar-2010\tP&L: 322013\n",
      "Month: Apr-2010\tP&L: -69417\n",
      "Month: May-2010\tP&L: 310503\n",
      "Month: Jun-2010\tP&L: 522857\n",
      "Month: Jul-2010\tP&L: 1033096\n",
      "Month: Aug-2010\tP&L: 604885\n",
      "Month: Sep-2010\tP&L: -216386\n",
      "Month: Oct-2010\tP&L: 477532\n",
      "Month: Nov-2010\tP&L: 893810\n",
      "Month: Dec-2010\tP&L: -80353\n",
      "Month: Jan-2011\tP&L: 779806\n",
      "Month: Feb-2011\tP&L: -335203\n",
      "Month: Mar-2011\tP&L: 697845\n",
      "Month: Apr-2011\tP&L: 793163\n",
      "Month: May-2011\tP&L: 485070\n",
      "Month: Jun-2011\tP&L: 584122\n",
      "Month: Jul-2011\tP&L: 62729\n",
      "Month: Aug-2011\tP&L: 668179\n",
      "Month: Sep-2011\tP&L: 899906\n",
      "Month: Oct-2011\tP&L: 834719\n",
      "Month: Nov-2011\tP&L: 132003\n",
      "Month: Dec-2011\tP&L: 309978\n",
      "Month: Jan-2012\tP&L: -755566\n",
      "Month: Feb-2012\tP&L: 1170593\n",
      "Month: Mar-2012\tP&L: 252788\n",
      "Month: Apr-2012\tP&L: 1151518\n",
      "Month: May-2012\tP&L: 817256\n",
      "Month: Jun-2012\tP&L: 570757\n",
      "Month: Jul-2012\tP&L: 506702\n",
      "Month: Aug-2012\tP&L: -1022534\n",
      "Month: Sep-2012\tP&L: 475062\n",
      "Month: Oct-2012\tP&L: 779976\n",
      "Month: Nov-2012\tP&L: 144175\n",
      "Month: Dec-2012\tP&L: 542494\n",
      "Month: Jan-2013\tP&L: 359333\n",
      "Month: Feb-2013\tP&L: 321469\n",
      "Month: Mar-2013\tP&L: 67780\n",
      "Month: Apr-2013\tP&L: 471435\n",
      "Month: May-2013\tP&L: 565603\n",
      "Month: Jun-2013\tP&L: 872480\n",
      "Month: Jul-2013\tP&L: 789480\n",
      "Month: Aug-2013\tP&L: 999942\n",
      "Month: Sep-2013\tP&L: -1196225\n",
      "Month: Oct-2013\tP&L: 268997\n",
      "Month: Nov-2013\tP&L: -687986\n",
      "Month: Dec-2013\tP&L: 1150461\n",
      "Month: Jan-2014\tP&L: 682458\n",
      "Month: Feb-2014\tP&L: 617856\n",
      "Month: Mar-2014\tP&L: 824098\n",
      "Month: Apr-2014\tP&L: 581943\n",
      "Month: May-2014\tP&L: 132864\n",
      "Month: Jun-2014\tP&L: 448062\n",
      "Month: Jul-2014\tP&L: 689161\n",
      "Month: Aug-2014\tP&L: 800701\n",
      "Month: Sep-2014\tP&L: 1166643\n",
      "Month: Oct-2014\tP&L: 947333\n",
      "Month: Nov-2014\tP&L: 578668\n",
      "Month: Dec-2014\tP&L: 988505\n",
      "Month: Jan-2015\tP&L: 1139715\n",
      "Month: Feb-2015\tP&L: 1029471\n",
      "Month: Mar-2015\tP&L: 687533\n",
      "Month: Apr-2015\tP&L: -524626\n",
      "Month: May-2015\tP&L: 158620\n",
      "Month: Jun-2015\tP&L: 87795\n",
      "Month: Jul-2015\tP&L: 423389\n",
      "Month: Aug-2015\tP&L: 840723\n",
      "Month: Sep-2015\tP&L: 568529\n",
      "Month: Oct-2015\tP&L: 332067\n",
      "Month: Nov-2015\tP&L: 989499\n",
      "Month: Dec-2015\tP&L: 778237\n",
      "Month: Jan-2016\tP&L: 650000\n",
      "Month: Feb-2016\tP&L: -1100387\n",
      "Month: Mar-2016\tP&L: -174946\n",
      "Month: Apr-2016\tP&L: 757143\n",
      "Month: May-2016\tP&L: 445709\n",
      "Month: Jun-2016\tP&L: 712961\n",
      "Month: Jul-2016\tP&L: -1163797\n",
      "Month: Aug-2016\tP&L: 569899\n",
      "Month: Sep-2016\tP&L: 768450\n",
      "Month: Oct-2016\tP&L: 102685\n",
      "Month: Nov-2016\tP&L: 795914\n",
      "Month: Dec-2016\tP&L: 60988\n",
      "Month: Jan-2017\tP&L: 138230\n",
      "Month: Feb-2017\tP&L: 671099\n"
     ]
    }
   ],
   "source": [
    "# Open the CSV\n",
    "dates = []\n",
    "pandl = []\n",
    "monthlychanges = []\n",
    "count = 0\n",
    "\n",
    "with open(csvpath, newline=\"\") as csvfile:\n",
    "    csvreader = csv.reader(csvfile, delimiter=\",\")\n",
    "    # Read the header row first (skip this step if there is now header)\n",
    "    csv_header = next(csvreader)\n",
    "    print(f\"CSV Header: {csv_header}\")\n",
    "\n",
    "    # Read each row of data after the header\n",
    "    for row in csvreader:\n",
    "        dates.append(row[0])\n",
    "        pandl.append(int(row[1]))\n",
    "        print(\"Month: {}\\tP&L: {}\".format(row[0],row[1]))"
   ]
  },
  {
   "cell_type": "code",
   "execution_count": 98,
   "metadata": {},
   "outputs": [],
   "source": [
    "#Count total months\n",
    "total_months = len(dates)"
   ]
  },
  {
   "cell_type": "code",
   "execution_count": 99,
   "metadata": {},
   "outputs": [],
   "source": [
    "#Total for profits/losses\n",
    "plsum = 0\n",
    "for p in pandl:\n",
    "    plsum = plsum + int(p)"
   ]
  },
  {
   "cell_type": "code",
   "execution_count": 103,
   "metadata": {},
   "outputs": [],
   "source": [
    "#Find changes in profits/losses\n",
    "plchange = int(row[1]) - 0\n",
    "plprevious = int(row[1])\n",
    "datechange = dates + [row[0]]"
   ]
  },
  {
   "cell_type": "code",
   "execution_count": 104,
   "metadata": {},
   "outputs": [],
   "source": [
    "#Find greatest increase and decrease in profits\n",
    "Increase = pandl[0]\n",
    "Decrease = pandl[0]\n",
    "for p in range(len(pandl)):\n",
    "    if pandl[p] >= Increase:\n",
    "        Increase = pandl[p]\n",
    "        Inc_month = dates[p]\n",
    "    elif pandl[p] <= Decrease:\n",
    "        Decrease = pandl[p]\n",
    "        Dec_month = dates[p]"
   ]
  },
  {
   "cell_type": "code",
   "execution_count": 105,
   "metadata": {},
   "outputs": [],
   "source": [
    "#Find average of change monthly\n",
    "pl = int(row[1])\n",
    "monthly_pl_change = pl - 0"
   ]
  },
  {
   "cell_type": "code",
   "execution_count": 106,
   "metadata": {},
   "outputs": [],
   "source": [
    "#List of monthly profit changes\n",
    "monthlychanges.append(monthly_pl_change)"
   ]
  },
  {
   "cell_type": "code",
   "execution_count": 118,
   "metadata": {},
   "outputs": [],
   "source": [
    "#Calculate the average change in profits\n",
    "total_pl_change = 0 + monthly_pl_change\n",
    "average_pl_changes = round(total_pl_change/total_months)"
   ]
  },
  {
   "cell_type": "code",
   "execution_count": 119,
   "metadata": {},
   "outputs": [
    {
     "name": "stdout",
     "output_type": "stream",
     "text": [
      "Financial Analysis\n",
      "-------------------------------------------------------\n",
      "Total Months: 86\n",
      "Total Revenue: $38382578\n",
      "Average Revenue Change: $7803\n",
      "Greatest Increase in Revenue: Feb-2012 $1170593\n",
      "Greatest Decrease in Revenue: Sep-2013 $-1196225\n",
      "\n"
     ]
    }
   ],
   "source": [
    "#Print to terminal\n",
    "print(f\"Financial Analysis\")\n",
    "print(\"-------------------------------------------------------\")\n",
    "print(f\"Total Months: {total_months}\")\n",
    "print(f\"Total Revenue: ${plsum}\")\n",
    "print(f\"Average Revenue Change: ${average_pl_changes}\")\n",
    "print(f\"Greatest Increase in Revenue: {Inc_month} ${Increase}\")\n",
    "print(f\"Greatest Decrease in Revenue: {Dec_month} ${Decrease}\")\n",
    "print(\"\")"
   ]
  },
  {
   "cell_type": "code",
   "execution_count": 121,
   "metadata": {},
   "outputs": [],
   "source": [
    "#Write to file\n",
    "with open('PyBank.txt', 'w') as text:\n",
    "    text.write(f\"Financial Analysis\")\n",
    "    text.write(\"-------------------------------------------------------\")\n",
    "    text.write(f\"Total Months: {total_months}\")\n",
    "    text.write(f\"Total Revenue: ${plsum}\")\n",
    "    text.write(f\"Average Revenue Change: ${average_pl_changes}\")\n",
    "    text.write(f\"Greatest Increase in Revenue: {Inc_month} ${Increase}\")\n",
    "    text.write(f\"Greatest Decrease in Revenue: {Dec_month} ${Decrease}\")\n",
    "    text.write(\"\")"
   ]
  },
  {
   "cell_type": "code",
   "execution_count": null,
   "metadata": {},
   "outputs": [],
   "source": []
  }
 ],
 "metadata": {
  "kernelspec": {
   "display_name": "Python 3",
   "language": "python",
   "name": "python3"
  },
  "language_info": {
   "codemirror_mode": {
    "name": "ipython",
    "version": 3
   },
   "file_extension": ".py",
   "mimetype": "text/x-python",
   "name": "python",
   "nbconvert_exporter": "python",
   "pygments_lexer": "ipython3",
   "version": "3.7.4"
  }
 },
 "nbformat": 4,
 "nbformat_minor": 4
}
